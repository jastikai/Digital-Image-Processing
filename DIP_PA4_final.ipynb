{
 "cells": [
  {
   "cell_type": "code",
   "execution_count": null,
   "metadata": {},
   "outputs": [],
   "source": [
    "from __future__ import print_function, division     # Python 2/3 compatibility\n",
    "from skimage import io                              # utilities to read and write images in various formats\n",
    "import numpy as np                                  # array manipulation package\n",
    "import matplotlib.pyplot as plt                      # plotting package\n",
    "%matplotlib inline\n",
    "plt.rcParams['figure.figsize'] = (20, 8)            # set default figure size\n",
    "plt.rcParams['image.cmap'] = 'gray'                 # set default colormap to gray"
   ]
  },
  {
   "cell_type": "markdown",
   "metadata": {},
   "source": [
    "# Digital Image Processing - Programming Assignment \n",
    "\n",
    "The following progamming assignment involves image enhancement tasks in spatial and frequency domain. The deadline for returning your work is **22 April 2022 at 23:59. \n",
    "Please, follow carefully the submission instructions given in the end of this notebook.** You are encouraged to seek information in other places than the course book and lecture material but remember **list all your sources under references**.\n",
    "\n",
    "If you experience problems that you cannot solve using the course material or the Python documentation, or have any questions regarding to the programming assignments, please do not hesitate to contact the course assistant by e-mail at the address dip@unioulu.oulu.fi."
   ]
  },
  {
   "cell_type": "markdown",
   "metadata": {},
   "source": [
    "# 5. Image enhancement in spatial domain\n",
    "\n",
    "The gray-scale images `test_gauss_noise.jpg`, `test_saltpepper_noise.jpg` and the binary image `logo_noise3.png` contain different types of noise. Your task is to perform image enhancement in spatial domain so that the noise in all three images is reduced. Please note that you cannot use inbuilt functionality to restore the original image (i. e. remove the noise completely). For instance, __[`scipy.ndimage`](https://docs.scipy.org/doc/scipy/reference/ndimage.html)__ and __[`scipy.signal`](https://docs.scipy.org/doc/scipy/reference/signal.html)__ packages provide useful tools for filtering the noise types."
   ]
  },
  {
   "cell_type": "markdown",
   "metadata": {},
   "source": [
    "### Additive Gaussian noise\n",
    "\n",
    "The image `test_gauss_noise.jpg` suffers from additive Gaussian noise:"
   ]
  },
  {
   "cell_type": "code",
   "execution_count": null,
   "metadata": {},
   "outputs": [],
   "source": [
    "# read image the original 'test_noiseless.jpg' and its noisy version 'test_gauss_noise.jpg'\n",
    "orig = io.imread('test_noiseless.jpg').astype('int32')\n",
    "noisy1 = io.imread('test_gauss_noise.jpg')\n",
    "\n",
    "# extract the additive noise from the noisy image by subtracting the original image from the noisy one\n",
    "noise1 = noisy1.astype('int32') - orig\n",
    "\n",
    "# display the noisy image, noise and histogram of the noise\n",
    "fig, ax = plt.subplots(1, 3, figsize=(15,5))\n",
    "ax[0].imshow(noisy1, vmin=0, vmax=255, cmap=plt.get_cmap('gray'))\n",
    "ax[0].set_title('puppy_noise1')\n",
    "ax[0].axis('off')\n",
    "ax[1].imshow(noise1, cmap=plt.get_cmap('gray'))\n",
    "ax[1].set_title('noise1')\n",
    "ax[1].axis('off')\n",
    "ax[2].hist(noise1.flatten(), bins=30, fc='black')\n",
    "ax[2].set_title('Histogram of noise1')\n",
    "fig.tight_layout()"
   ]
  },
  {
   "cell_type": "markdown",
   "metadata": {},
   "source": [
    "**5.1. Perform image enhancement on the `test_gauss_noise.jpg` image using a `3x3` mean filter and compute the root mean squared error (RMSE) with the original image before and after filtering the noise. Then, display the noisy, enhanced and original image in the same figure.**\n",
    "\n",
    "Hint: You can perform the filtering by first constructing the `3x3` mean filter mask (`NumPy array`) and then convolving the image with it using e.g. __[`scipy.signal.convolve2d()`](https://docs.scipy.org/doc/scipy/reference/generated/scipy.signal.convolve2d.html)__ function. Please note the __[difference in (integer) division between Python versions 2 and 3](https://stackoverflow.com/questions/21316968/division-in-python-2-7-and-3-3)__."
   ]
  },
  {
   "cell_type": "code",
   "execution_count": null,
   "metadata": {},
   "outputs": [],
   "source": [
    "from scipy import signal\n",
    "\n",
    "# construct mean filter mask\n",
    "mean_mask = np.array([[1/9, 1/9, 1/9], [1/9, 1/9, 1/9], [1/9, 1/9, 1/9]])\n",
    "\n",
    "# convolve the noisy image with the constructed filter mask\n",
    "filt1 = signal.convolve2d(noisy1,mean_mask,mode='same')\n",
    "\n",
    "# display the noisy, enhanced and original images\n",
    "fig, ax = plt.subplots(1, 3, figsize=(15,5))\n",
    "ax[0].imshow(noisy1, vmin=0, vmax=255, cmap=plt.get_cmap('gray'))\n",
    "ax[0].set_title('Noisy image')\n",
    "ax[1].imshow(filt1, vmin=0, vmax=255, cmap=plt.get_cmap('gray'))\n",
    "ax[1].set_title('Filtered image')\n",
    "ax[2].imshow(orig, vmin=0, vmax=255, cmap=plt.get_cmap('gray'))\n",
    "ax[2].set_title('Original image')\n",
    "\n",
    "# print RMSE before and after enhancement\n",
    "rmse_before = np.sqrt(((noisy1.flatten() - orig.flatten()) ** 2).mean())\n",
    "rmse_after = np.sqrt(((filt1.flatten() - orig.flatten()) ** 2).mean())\n",
    "print(\"RMSE before enhancement: \" + str(rmse_before) + \"\\nRMSE after enhancement: \" + str(rmse_after))"
   ]
  },
  {
   "cell_type": "markdown",
   "metadata": {},
   "source": [
    "**5.2. Perform image enhancement on the `test_gauss_noise.jpg` image using a `3x3` __[median filter](https://docs.scipy.org/doc/scipy/reference/generated/scipy.ndimage.median_filter.html#scipy.ndimage.median_filter)__ and compute the RMSE with the original image before and after filtering the noise. Then, display the noisy, enhanced and original image in the same figure.**"
   ]
  },
  {
   "cell_type": "code",
   "execution_count": null,
   "metadata": {},
   "outputs": [],
   "source": [
    "from scipy.ndimage import median_filter\n",
    "\n",
    "# apply 3x3 median filter on the noisy image image\n",
    "filt2 = median_filter(noisy1, size=3)\n",
    "\n",
    "# display the noisy, enhanced and original images\n",
    "fig, ax = plt.subplots(1, 3, figsize=(15,5))\n",
    "ax[0].imshow(noisy1, vmin=0, vmax=255, cmap=plt.get_cmap('gray'))\n",
    "ax[0].set_title('Noisy image')\n",
    "ax[1].imshow(filt2, vmin=0, vmax=255, cmap=plt.get_cmap('gray'))\n",
    "ax[1].set_title('Filtered image')\n",
    "ax[2].imshow(orig, vmin=0, vmax=255, cmap=plt.get_cmap('gray'))\n",
    "ax[2].set_title('Original image')\n",
    "\n",
    "# print RMSE before and after enhancement\n",
    "rmse_before = np.sqrt(((noisy1.flatten() - orig.flatten()) ** 2).mean())\n",
    "rmse_after = np.sqrt(((filt2.flatten() - orig.flatten()) ** 2).mean())\n",
    "print(\"RMSE before enhancement: \" + str(rmse_before) + \"\\nRMSE after enhancement: \" + str(rmse_after))"
   ]
  },
  {
   "cell_type": "markdown",
   "metadata": {},
   "source": [
    "**5.3. Perform image enhancement on the `test_gauss_noise.jpg` image using a `5x5` __[Wiener filter](https://docs.scipy.org/doc/scipy/reference/generated/scipy.signal.wiener.html)__ and compute the RMSE with the original image before and after filtering the noise. Then, display the noisy, enhanced and original image in the same figure. Please note that you need to convert the input image into `float64` using `astype('float64')` before applying __[`scipy.signal.wiener()`](https://docs.scipy.org/doc/scipy/reference/generated/scipy.signal.wiener.html)__ function!**"
   ]
  },
  {
   "cell_type": "code",
   "execution_count": null,
   "metadata": {},
   "outputs": [],
   "source": [
    "# apply 5x5 Wiener filter on the noisy image\n",
    "filt3 = signal.wiener(noisy1.astype('float64'), (5,5))\n",
    "\n",
    "# first convert the input image to float64 using 'astype('float64')'!\n",
    "\n",
    "# display the noisy, enhanced and original images\n",
    "fig, ax = plt.subplots(1, 3, figsize=(15,5))\n",
    "ax[0].imshow(noisy1, vmin=0, vmax=255, cmap=plt.get_cmap('gray'))\n",
    "ax[0].set_title('Noisy image')\n",
    "ax[1].imshow(filt2, vmin=0, vmax=255, cmap=plt.get_cmap('gray'))\n",
    "ax[1].set_title('Filtered image')\n",
    "ax[2].imshow(orig, vmin=0, vmax=255, cmap=plt.get_cmap('gray'))\n",
    "ax[2].set_title('Original image')\n",
    "\n",
    "# print RMSE before and after enhancement\n",
    "rmse_before = np.sqrt(((noisy1.flatten() - orig.flatten()) ** 2).mean())\n",
    "rmse_after = np.sqrt(((filt3.flatten() - orig.flatten()) ** 2).mean())\n",
    "print(\"RMSE before enhancement: \" + str(rmse_before) + \"\\nRMSE after enhancement: \" + str(rmse_after))"
   ]
  },
  {
   "cell_type": "markdown",
   "metadata": {},
   "source": [
    "**5.4. Finally, display the three images obtained with mean, median and Wiener filters in the same figure.**"
   ]
  },
  {
   "cell_type": "code",
   "execution_count": null,
   "metadata": {},
   "outputs": [],
   "source": [
    "# display the mean, median and Wiener filtered images\n",
    "fig, ax = plt.subplots(1, 3, figsize=(15,5))\n",
    "ax[0].imshow(filt1, vmin=0, vmax=255, cmap=plt.get_cmap('gray'))\n",
    "ax[0].set_title('Mean filter')\n",
    "ax[1].imshow(filt2, vmin=0, vmax=255, cmap=plt.get_cmap('gray'))\n",
    "ax[1].set_title('Median filter')\n",
    "ax[2].imshow(filt3, vmin=0, vmax=255, cmap=plt.get_cmap('gray'))\n",
    "ax[2].set_title('Wiener filter')"
   ]
  },
  {
   "cell_type": "markdown",
   "metadata": {},
   "source": [
    "### Salt-and-pepper noise\n",
    "\n",
    "The image `test_saltpepper_noise.jpg` suffers from salt-and-pepper noise:"
   ]
  },
  {
   "cell_type": "code",
   "execution_count": null,
   "metadata": {},
   "outputs": [],
   "source": [
    "# read the 'test_saltpepper_noise.jpg' image\n",
    "noisy2 = io.imread('test_saltpepper_noise.jpg')\n",
    "\n",
    "# extract additive noise2\n",
    "noise2 = noisy2.astype('int32') - orig\n",
    "\n",
    "# display the noisy image and additive noise\n",
    "fig, ax = plt.subplots(1, 2)\n",
    "ax[0].imshow(noisy2, vmin=0, vmax=255, cmap=plt.get_cmap('gray'))\n",
    "ax[0].set_title('puppy_noise2')\n",
    "ax[0].axis('off')\n",
    "ax[1].imshow(noise2, cmap=plt.get_cmap('gray'))\n",
    "ax[1].set_title('noise2')\n",
    "ax[1].axis('off')\n",
    "fig.tight_layout()"
   ]
  },
  {
   "cell_type": "markdown",
   "metadata": {},
   "source": [
    "**5.5. Utilizing your knowledge in image enhancement, choose a proper filter for reducing the noise in the `test_saltpepper_noise.jpg` image and compute the RMSE with the original image before and after filtering the noise. Then, display the noisy, enhanced and original image in the same figure.**"
   ]
  },
  {
   "cell_type": "code",
   "execution_count": null,
   "metadata": {},
   "outputs": [],
   "source": [
    "# reduce the noise with the method of your choice\n",
    "filt4 = median_filter(noisy2, size=3)\n",
    "\n",
    "\n",
    "# display the noisy, enhanced and original images\n",
    "fig, ax = plt.subplots(1, 3, figsize=(15,5))\n",
    "ax[0].imshow(noisy2, vmin=0, vmax=255, cmap=plt.get_cmap('gray'))\n",
    "ax[0].set_title('Noisy image')\n",
    "ax[1].imshow(filt4, vmin=0, vmax=255, cmap=plt.get_cmap('gray'))\n",
    "ax[1].set_title('Filtered image')\n",
    "ax[2].imshow(orig, vmin=0, vmax=255, cmap=plt.get_cmap('gray'))\n",
    "ax[2].set_title('Original image')\n",
    "\n",
    "# print RMSE before and after enhancement\n",
    "rmse_before = np.sqrt(((noisy2.flatten() - orig.flatten()) ** 2).mean())\n",
    "rmse_after = np.sqrt(((filt4.flatten() - orig.flatten()) ** 2).mean())\n",
    "print(\"RMSE before enhancement: \" + str(rmse_before) + \"\\nRMSE after enhancement: \" + str(rmse_after))"
   ]
  },
  {
   "cell_type": "markdown",
   "metadata": {},
   "source": [
    "The binary image `logo_noise3.png` suffers from salt-and-pepper noise as well:"
   ]
  },
  {
   "cell_type": "code",
   "execution_count": null,
   "metadata": {},
   "outputs": [],
   "source": [
    "# read 'logo_noise3.png' as binary image\n",
    "noisy3 = io.imread('logo_noise3.png').astype('bool_')\n",
    "\n",
    "# display the noisy binary image\n",
    "fig, ax = plt.subplots(figsize=(10,7))\n",
    "ax.imshow(noisy3, cmap=plt.get_cmap('gray'))\n",
    "ax.set_title('logo_noise3')\n",
    "ax.axis('off')\n",
    "fig.tight_layout()"
   ]
  },
  {
   "cell_type": "markdown",
   "metadata": {},
   "source": [
    "**5.6. Again, utilizing your knowledge in image enhancement, find a way for reducing the noise in the noisy binary image `logo_noise3.png` and display the noisy and enhanced images in the same figure.**"
   ]
  },
  {
   "cell_type": "code",
   "execution_count": null,
   "metadata": {},
   "outputs": [],
   "source": [
    "# remove the noise with the method of your choice\n",
    "xx,yy = np.shape(noisy3)\n",
    "filt5 = np.zeros((xx,yy))\n",
    "#filt5 = noisy3\n",
    "#let's build an adaptive mean filter\n",
    "#estimate noise variance with earlier salt-n-pepper noise\n",
    "sigma_eta = np.var((noise2 / np.amax(noise2.flatten())).flatten())\n",
    "#print(sigma_eta)\n",
    "window = 7\n",
    "half_w = window//2\n",
    "for x in range(half_w,xx-half_w):\n",
    "    for y in range(half_w,yy-half_w):\n",
    "        #calculate image variance and mean in window x window neighborhood\n",
    "        sigma_L = np.var(noisy3[x-half_w:x+half_w,y-half_w:y+half_w].flatten())\n",
    "        mean_L = np.mean(noisy3[x-half_w:x+half_w,y-half_w:y+half_w].flatten())\n",
    "        median_L = np.median(noisy3[x-half_w:x+half_w,y-half_w:y+half_w].flatten())\n",
    "        if sigma_eta > sigma_L:\n",
    "            filt5[x,y] = mean_L\n",
    "        else:\n",
    "            filt5[x,y] = noisy3[x,y] - (sigma_eta / sigma_L)*(noisy3[x,y] - mean_L)\n",
    "\n",
    "# given that the result does not look as good as I would have hoped, let's try out the median filter as well\n",
    "filt6 = median_filter(noisy3, size=3)\n",
    "\n",
    "\n",
    "# display the noisy and enhanced image\n",
    "fig, ax = plt.subplots(1, 3, figsize=(15,10))\n",
    "ax[0].imshow(noisy3, cmap=plt.get_cmap('gray'))\n",
    "ax[0].set_title('Noisy image')\n",
    "ax[1].imshow(filt5, cmap=plt.get_cmap('gray'))\n",
    "ax[1].set_title('Adaptive mean filtered image')\n",
    "ax[2].imshow(filt6, cmap=plt.get_cmap('gray'))\n",
    "ax[2].set_title('Median filtered image')"
   ]
  },
  {
   "cell_type": "markdown",
   "metadata": {},
   "source": [
    "# 6. Image enhancement in frequency domain"
   ]
  },
  {
   "cell_type": "code",
   "execution_count": null,
   "metadata": {},
   "outputs": [],
   "source": [
    "from scipy import fftpack\n",
    "\n",
    "# read noisy image 'test_periodic_noise.jpg' and compute its Fourier transform (see Assignment #2)\n",
    "periodic = io.imread('test_periodic_noise.jpg')\n",
    "periodic_fft = fftpack.fftshift(fftpack.fft2(periodic))\n",
    "\n",
    "# display the noisy image and the magnitude of its Fourier transform in the same figure\n",
    "fig, ax = plt.subplots(1, 2)\n",
    "ax[0].imshow(periodic, vmin=0, vmax=255, cmap=plt.get_cmap('gray'))\n",
    "ax[0].set_title('Periodic perturbation')\n",
    "ax[0].axis('off')\n",
    "ax[1].imshow(np.log(np.abs(periodic_fft)+1), cmap=plt.get_cmap('gray'))\n",
    "ax[1].set_title('Magnitude of the FFT')\n",
    "fig.tight_layout()"
   ]
  },
  {
   "cell_type": "markdown",
   "metadata": {},
   "source": [
    "The image `test_periodic_noise.jpg` contains a periodic, i.e. sinusoidal, perturbation (see e.g. Section 5.2.3 in course book). You task is to remove the noise as well as you can. In practice, this consists of two main steps 1) locating the noise in the frequency domain, and 2) filtering the perturbation frequency using a proper filter."
   ]
  },
  {
   "cell_type": "markdown",
   "metadata": {},
   "source": [
    "Let's take first a look at what a 2D sinusoidal signal looks like in the 2D Fourier space by plotting three signals with different frequencies, `f=2`, `f=4` and `f=8` and their Fourier transforms (FT):"
   ]
  },
  {
   "cell_type": "code",
   "execution_count": null,
   "metadata": {},
   "outputs": [],
   "source": [
    "# sample (x,y) image coordinate space linearly\n",
    "nx = 100; ny = 100;\n",
    "x = np.linspace(-1, 1, nx);\n",
    "y = np.linspace(-1, 1, ny); \n",
    "[X, Y] = np.meshgrid(x, y);\n",
    "\n",
    "# plot the three 2D sinusoids and the magnitudes of their FTs\n",
    "fig, ax = plt.subplots(2, 3)\n",
    "\n",
    "f = 2;                 \n",
    "z = np.sin(2*np.pi*f*X);\n",
    "ax[0,0].imshow(z, cmap=plt.get_cmap('gray'))\n",
    "ax[0,0].axis('off')\n",
    "ax[0,0].set_title('sinusoid of frequency f = 2')\n",
    "\n",
    "Z = fftpack.fftshift(fftpack.fft2(z))\n",
    "ax[1,0].imshow((np.abs(Z)+1), cmap=plt.get_cmap('gray'))\n",
    "ax[1,0].axis('off')\n",
    "ax[1,0].set_title('magnitude of the respective FT')\n",
    "\n",
    "f = 4;                 \n",
    "z = np.sin(2*np.pi*f*X);\n",
    "ax[0,1].imshow(z, cmap=plt.get_cmap('gray'))\n",
    "ax[0,1].axis('off')\n",
    "ax[0,1].set_title('sinusoid of frequency f = 4')\n",
    "\n",
    "Z = fftpack.fftshift(fftpack.fft2(z))\n",
    "ax[1,1].imshow((np.abs(Z)+1), cmap=plt.get_cmap('gray'))\n",
    "ax[1,1].axis('off')\n",
    "ax[1,1].set_title('magnitude of the respective FT')\n",
    "\n",
    "f = 8;                 \n",
    "z = np.sin(2*np.pi*f*X);\n",
    "ax[0,2].imshow(z, cmap=plt.get_cmap('gray'))\n",
    "ax[0,2].axis('off')\n",
    "ax[0,2].set_title('sinusoid of frequency f = 8')\n",
    "\n",
    "Z = fftpack.fftshift(fftpack.fft2(z))\n",
    "ax[1,2].imshow((np.abs(Z)+1), cmap=plt.get_cmap('gray'))\n",
    "ax[1,2].axis('off')\n",
    "ax[1,2].set_title('magnitude of the respective FT')\n",
    "fig.tight_layout()"
   ]
  },
  {
   "cell_type": "markdown",
   "metadata": {},
   "source": [
    "As you can see, a horizontal 2D sinusoid corresponds to two horizontal peaks symmetric to the zero frequency in the magnitude of the Fourier domain and the higher the frequency the further away these peaks are from the origin."
   ]
  },
  {
   "cell_type": "markdown",
   "metadata": {},
   "source": [
    "Now, let's take a look at what happens if we rotate the horizontal 2D sinusoid 15, 45 and 75 degrees:"
   ]
  },
  {
   "cell_type": "code",
   "execution_count": null,
   "metadata": {},
   "outputs": [],
   "source": [
    "# plot rotated 2D sinusoids and the magnitudes of their FTs\n",
    "fig, ax = plt.subplots(2, 3)\n",
    "\n",
    "theta = 15*np.pi/180;\n",
    "z = np.sin(2*np.pi*f*(Y*np.sin(theta) + X*np.cos(theta)));\n",
    "ax[0,0].imshow(z, cmap=plt.get_cmap('gray'))\n",
    "ax[0,0].axis('off')\n",
    "ax[0,0].set_title('sinusoid tilted at angle 15')\n",
    "\n",
    "Z = fftpack.fftshift(fftpack.fft2(z))\n",
    "ax[1,0].imshow((np.abs(Z)+1), cmap=plt.get_cmap('gray'))\n",
    "ax[1,0].axis('off')\n",
    "ax[1,0].set_title('magnitude of the respective FT')\n",
    "\n",
    "theta = 45*np.pi/180;\n",
    "z = np.sin(2*np.pi*f*(Y*np.sin(theta) + X*np.cos(theta)));\n",
    "ax[0,1].imshow(z, cmap=plt.get_cmap('gray'))\n",
    "ax[0,1].axis('off')\n",
    "ax[0,1].set_title('sinusoid tilted at angle 45')\n",
    "\n",
    "Z = fftpack.fftshift(fftpack.fft2(z))\n",
    "ax[1,1].imshow((np.abs(Z)+1), cmap=plt.get_cmap('gray'))\n",
    "ax[1,1].axis('off')\n",
    "ax[1,1].set_title('magnitude of the respective FT')\n",
    "\n",
    "theta = 75*np.pi/180;\n",
    "z = np.sin(2*np.pi*f*(Y*np.sin(theta) + X*np.cos(theta)));\n",
    "ax[0,2].imshow(z, cmap=plt.get_cmap('gray'))\n",
    "ax[0,2].axis('off')\n",
    "ax[0,2].set_title('sinusoid tilted at angle 75')\n",
    "\n",
    "Z = fftpack.fftshift(fftpack.fft2(z))\n",
    "ax[1,2].imshow((np.abs(Z)+1), cmap=plt.get_cmap('gray'))\n",
    "ax[1,2].axis('off')\n",
    "ax[1,2].set_title('magnitude of the respective FT')\n",
    "fig.tight_layout()"
   ]
  },
  {
   "cell_type": "markdown",
   "metadata": {},
   "source": [
    "Due to the properties of the 2D FT, the corresponding frequency peaks rotate exactly the same manner."
   ]
  },
  {
   "cell_type": "markdown",
   "metadata": {},
   "source": [
    "Now, it should be clear(er) what the periodic perturbation we are dealing with looks like in the FT of the noisy image, i.e. where to look for it. Can you now spot the reason for the periodic perturbation in the spectral image of the image `test_periodic_noise.jpg`?"
   ]
  },
  {
   "cell_type": "code",
   "execution_count": null,
   "metadata": {},
   "outputs": [],
   "source": [
    "# display the magnitude of the FT\n",
    "fig, ax = plt.subplots()\n",
    "ax.imshow(np.log(np.abs(periodic_fft)+1), cmap=plt.get_cmap('gray'))\n",
    "ax.set_title('magnitude of the FT of the image test_periodic_noise.jpg')\n",
    "fig.tight_layout()"
   ]
  },
  {
   "cell_type": "markdown",
   "metadata": {},
   "source": [
    "This kind of periodic perturbation should be filtered with a notch filter. However, in the following, an ideal band-reject filter is used for the sake of simplicity. So perform the following operations in the reserved code cells in order to remove the periodic perturbation from the test image.\n",
    "\n",
    "(Please note that you can also implement a notch filter instead if you prefer.)"
   ]
  },
  {
   "cell_type": "markdown",
   "metadata": {},
   "source": [
    "**6.1. Modify the ideal lowpass (or highpass) filter code from Assignment \\#3 to construct an ideal band-reject filter `Hbr` and display band-reject filters with cut-off frequency `D0=0.2` and bandwidths `W=0.05` and `W=0.01` in the same figure.**\n",
    "\n",
    "Hint: See lecture notes or course book what an ideal band-reject filter looks like. An ideal band-reject filter is just a combination of lowpass and highpass filtering, so now you need to combine the conditions `<` and `>` into one filter in order to reject frequencies within the narrow band."
   ]
  },
  {
   "cell_type": "code",
   "execution_count": null,
   "metadata": {},
   "outputs": [],
   "source": [
    "# create matrix D with absolute frequency values and size of the FT of the image 'test_periodic_noise.jpg' \n",
    "n = periodic_fft.shape\n",
    "f1 = ( np.arange(0,n[0])-np.floor(n[0]/2) ) * (2./(n[0]))\n",
    "f2 = ( np.arange(0,n[1])-np.floor(n[1]/2) ) * (2./(n[1]))\n",
    "f1, f2 = np.meshgrid(f1, f2)\n",
    "D = np.sqrt(f1**2 + f2**2)\n",
    "\n",
    "# set cut-off frequency 'D0' to 0.2\n",
    "D0 = 0.2\n",
    "\n",
    "# set the bandwidth 'W' to 0.05\n",
    "W = 0.05\n",
    "\n",
    "# initialize filter matrix 'Hbr' with ones (same size as the fft2 of the test image)\n",
    "Hbr = np.ones(n)\n",
    "\n",
    "# set frequencies > or < the threshold to zero, other remain unaltered\n",
    "Hbr[D > D0] = 0.0\n",
    "Hbr[D > D0 + W] = 1.0\n",
    "\n",
    "\n",
    "# do the same to construct ideal band-reject filter with 'W' of 0.01\n",
    "W_2 = 0.01\n",
    "Hbr_2 = np.ones(n)\n",
    "Hbr_2[D > D0] = 0.0\n",
    "Hbr_2[D > D0 + W_2] = 1.0\n",
    "\n",
    "# display both filters with different bandwidths in the same figure\n",
    "fig, ax = plt.subplots(1, 2)\n",
    "ax[0].imshow(Hbr, cmap=plt.get_cmap('gray'))\n",
    "ax[0].set_title('Band-reject filter with W = 0.05')\n",
    "#ax[0].axis('off')\n",
    "ax[1].imshow(Hbr_2, cmap=plt.get_cmap('gray'))\n",
    "ax[1].set_title('Band-reject filter with W = 0.01')\n",
    "#ax[1].axis('off')\n",
    "fig.tight_layout()"
   ]
  },
  {
   "cell_type": "markdown",
   "metadata": {},
   "source": [
    "**6.2. Find the perturbation frequency in the magnitude of the FT that should be filtered out and filter the noisy image with a band-reject filter having proper `D0` and `W`. Then. display the reconstructed filtered image and the magnitude of its FT in the same figure.**\n",
    "\n",
    "Hint: You should see two sharp peaks in the spectral image which should be filtered out. They may be somewhat hard to spot but you should know where to look if you followed the introduction part of this assignment carefully. You can either try to determine the perturbation frequency: \n",
    "\n",
    "1. manually by trial and error, or \n",
    "\n",
    "2. automatically by finding the peak coordinates with __[`skimage.feature.peak_local_max()`](http://scikit-image.org/docs/dev/api/skimage.feature.html#skimage.feature.peak_local_max)__ function and picking the corresponding relative frequency from the frequency matrix `D` based on the found peak locations.\n",
    "\n",
    "Please note that you will receive the same amount of points no matter which of the two approaches you choose!"
   ]
  },
  {
   "cell_type": "code",
   "execution_count": null,
   "metadata": {
    "scrolled": false
   },
   "outputs": [],
   "source": [
    "from skimage.feature import peak_local_max\n",
    "from scipy import fftpack\n",
    "\n",
    "n = periodic_fft.shape\n",
    "f1 = ( np.arange(0,n[0])-np.floor(n[0]/2) ) * (2./(n[0]))\n",
    "f2 = ( np.arange(0,n[1])-np.floor(n[1]/2) ) * (2./(n[1]))\n",
    "f1, f2 = np.meshgrid(f1, f2)\n",
    "D = np.sqrt(f1**2 + f2**2)\n",
    "\n",
    "# find perturbation frequency 'D0' manually or automatically\n",
    "loc_max = peak_local_max(np.log(np.abs(periodic_fft)+1), threshold_abs = 14)\n",
    "loc_max = loc_max[1]\n",
    "D0 = D[loc_max[1],loc_max[1]]\n",
    "\n",
    "\n",
    "# create a filter mask 'Hbr' size of the FT of the test image\n",
    "Hbr = np.ones(n)\n",
    "\n",
    "# set frequencies within a _narrow_ reject band 'W' to zero, other remain unaltered\n",
    "W = 0.04\n",
    "D0 = D0 - W/2\n",
    "Hbr[D > D0] = 0.0\n",
    "Hbr[D > D0 + W] = 1.0\n",
    "\n",
    "# apply the ideal band-reject filter to fft the test image\n",
    "br_fft = Hbr * periodic_fft\n",
    "\n",
    "# reconstruct the enhanced image (see Assignment #2)\n",
    "br_im_translate = fftpack.ifftshift(br_fft)\n",
    "br_im = fftpack.ifft2(br_im_translate)\n",
    "br_im = np.real(br_im)\n",
    "br_im = np.clip(br_im, 0, 255)\n",
    "br_fft = fftpack.fft2(br_im)\n",
    "br_fft = fftpack.fftshift(br_fft)\n",
    "\n",
    "# display the enhanced image and the magnitude of its FT\n",
    "fig, ax = plt.subplots(1, 2)\n",
    "ax[0].imshow(br_im, cmap=plt.get_cmap('gray'))\n",
    "ax[0].set_title('Band-reject filtered image')\n",
    "#ax[0].axis('off')\n",
    "ax[1].imshow(np.log(np.abs(br_fft)+1), cmap=plt.get_cmap('gray'))\n",
    "ax[1].set_title('Band-reject filtered FT')\n",
    "#ax[1].axis('off')\n",
    "fig.tight_layout()\n"
   ]
  },
  {
   "cell_type": "markdown",
   "metadata": {},
   "source": [
    "**6.3. Finally, display the noisy image `test_periodic_noise.jpg` and the enhanced image in the same figure.**"
   ]
  },
  {
   "cell_type": "code",
   "execution_count": null,
   "metadata": {},
   "outputs": [],
   "source": [
    "# display noisy and \"restored\" image\n",
    "fig, ax = plt.subplots(1, 2)\n",
    "ax[0].imshow(br_im, cmap=plt.get_cmap('gray'))\n",
    "ax[0].set_title('Band-reject filtered image')\n",
    "#ax[0].axis('off')\n",
    "ax[1].imshow(periodic, cmap=plt.get_cmap('gray'))\n",
    "ax[1].set_title('Original periodic test image')\n",
    "#ax[1].axis('off')\n",
    "fig.tight_layout()\n"
   ]
  },
  {
   "cell_type": "markdown",
   "metadata": {
    "collapsed": true
   },
   "source": [
    "# Aftermath\n",
    "Finally, fill your answers to the following questions:"
   ]
  },
  {
   "cell_type": "markdown",
   "metadata": {},
   "source": [
    "# References\n",
    "`LIST YOUR REFERENCES HERE!`"
   ]
  },
  {
   "cell_type": "markdown",
   "metadata": {
    "collapsed": true
   },
   "source": [
    "# Submission\n",
    "\n",
    "1. Before submitting your work, **check that your notebook (code) runs from scratch** and reproduces all the requested results by clicking on the menu `Kernel -> Restart & Run All`! Also, check that you have answered all the questions written in **bold**.\n",
    "2. Clear all outputs and variables, etc. by click on the menu `Kernel -> Restart & Clear Output`. This may (or will) reduce the file size of your deliverable a lot! \n",
    "3. Rename this Jupyter notebook to **`DIP_PA4_[student number(s)].ipynb`** (e.g. `DIP_PA4_1234567.ipynb` if solo work or `DIP_PA4_1234567-7654321.ipynb` if pair work) and upload it as your submission to Moodle."
   ]
  },
  {
   "cell_type": "code",
   "execution_count": null,
   "metadata": {},
   "outputs": [],
   "source": []
  }
 ],
 "metadata": {
  "kernelspec": {
   "display_name": "Python 3 (ipykernel)",
   "language": "python",
   "name": "python3"
  },
  "language_info": {
   "codemirror_mode": {
    "name": "ipython",
    "version": 3
   },
   "file_extension": ".py",
   "mimetype": "text/x-python",
   "name": "python",
   "nbconvert_exporter": "python",
   "pygments_lexer": "ipython3",
   "version": "3.9.7"
  }
 },
 "nbformat": 4,
 "nbformat_minor": 2
}

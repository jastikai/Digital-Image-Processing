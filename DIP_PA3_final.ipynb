{
 "cells": [
  {
   "cell_type": "code",
   "execution_count": null,
   "metadata": {},
   "outputs": [],
   "source": [
    "from __future__ import print_function, division   # Python 2/3 compatibility\n",
    "from skimage import io                            # utilities to read and write images in various formats\n",
    "import numpy as np  # array manipulation package\n",
    "import matplotlib.pylab as plt                    # plotting package\n",
    "%matplotlib inline\n",
    "plt.rcParams['figure.figsize'] = (7,15)         # set default figure size\n",
    "plt.rcParams['image.cmap'] = 'gray'               # set default colormap to gray"
   ]
  },
  {
   "cell_type": "markdown",
   "metadata": {},
   "source": [
    "# Digital Image Processing - Programming Assignment \n",
    "\n",
    "The following progamming assignment involves image filtering in the frequency domain. The deadline for returning your work is **14 April 2022 at 23:59. \n",
    "Please, follow carefully the submission instructions given in the end of this notebook.** You are encouraged to seek information in other places than the course book and lecture material but remember **list all your sources under references**.\n",
    "\n",
    "If you experience problems that you cannot solve using the course material or the Python documentation, or have any questions regarding to the programming assignments, please do not hesitate to contact the course assistant by e-mail at the address dip@unioulu.oulu.fi."
   ]
  },
  {
   "cell_type": "markdown",
   "metadata": {},
   "source": [
    "# 4. Image transforms : lowpass and highpass filtering in frequency domain\n",
    "\n",
    "In the following, you will first perform ideal lowpass and highpass filtering on the test image, and later, we will also consider the Gaussian lowpass and highpass filtering. First, read the part concerning image enhancement in frequency domain in the lecture notes or in the course book. Specifically, you should look at the **Chapter-4** (available as a PDF file) in the lecture notes in Moodle.\n",
    "\n",
    "Now, perform the following operations in the reserved code cells and answer to the questions written in bold into the reserved spaces.\n"
   ]
  },
  {
   "cell_type": "markdown",
   "metadata": {},
   "source": [
    "**4.1. Read and display the test image `hplptest.jpg`.**"
   ]
  },
  {
   "cell_type": "code",
   "execution_count": null,
   "metadata": {},
   "outputs": [],
   "source": [
    "# read test image\n",
    "test_img = io.imread('hplptest.jpg')\n",
    "\n",
    "# display the test image\n",
    "plt.imshow(test_img)\n",
    "plt.title(f\"Test image\")\n",
    "plt.show()"
   ]
  },
  {
   "cell_type": "markdown",
   "metadata": {},
   "source": [
    "**4.2. Compute the Fourier transform (FT) of the test image and take a look at what the magnitude of the FT looks like.**\n",
    "\n",
    "Hint: When plotting the FTs, use logarithmic graylevel transformation to make the result more illustrative for human visual system: \n",
    "\n",
    "`>>> np.log(np.abs(image_fft)+1)`"
   ]
  },
  {
   "cell_type": "code",
   "execution_count": null,
   "metadata": {},
   "outputs": [],
   "source": [
    "from scipy import fftpack\n",
    "\n",
    "# compute the FT of the test image using 'fftpack.fft2'\n",
    "img_fft = fftpack.fft2(test_img)\n",
    "\n",
    "# translate the origin of the FT (low frequencies) to the center using 'fftpack.fftshift'\n",
    "fft_translate = fftpack.fftshift(img_fft)\n",
    "\n",
    "# display the magnitude of the uncentered and centered FT using 'imshow'.\n",
    "fig, ax = plt.subplots(figsize=(16,16), nrows=1, ncols=2)\n",
    "ax[0].imshow(np.log(np.abs(img_fft)+1))\n",
    "ax[0].axis('off')\n",
    "ax[0].set_title(f\"Uncentered FT\")\n",
    "ax[1].imshow(np.log(np.abs(fft_translate)+1))\n",
    "ax[1].axis('off')\n",
    "ax[1].set_title(f\"Centered FT\")\n",
    "\n",
    "\n",
    "fig.tight_layout()"
   ]
  },
  {
   "cell_type": "markdown",
   "metadata": {},
   "source": [
    "**The code for constructing an ideal lowpass filter is given below:**"
   ]
  },
  {
   "cell_type": "code",
   "execution_count": null,
   "metadata": {},
   "outputs": [],
   "source": [
    "# make two frequency matrices, 'f1' and 'f2', as help variables (frequencies from -1 to 1)\n",
    "n = (500,500)\n",
    "f1 = ( np.arange(0,n[0])-np.floor(n[0]/2) ) * (2./(n[0]))\n",
    "f2 = ( np.arange(0,n[1])-np.floor(n[1]/2) ) * (2./(n[1]))\n",
    "f1, f2 = np.meshgrid(f1, f2)\n",
    "\n",
    "# make a matrix with absolute values of frequency (“sampled” frequency domain)\n",
    "D = np.sqrt(f1**2 + f2**2)\n",
    "\n",
    "# set cut-off frequency D0 to 0.2\n",
    "D0 = 0.2;\n",
    "\n",
    "# filter matrix is initialized to ones \n",
    "Hlp = np.ones(n)\n",
    "\n",
    "# set frequencies in filter mask Hlp greater than the cut-off frequency D0 to zero, other elements remain unaltered\n",
    "Hlp[D>D0] = 0.0"
   ]
  },
  {
   "cell_type": "markdown",
   "metadata": {},
   "source": [
    "**4.3. Modify the lowpass filter code and construct ideal highpass filter `Hhp` with the same cut-off frequency `D0=0.2` and display both ideal lowpass and highpass filter masks in the same figure.**"
   ]
  },
  {
   "cell_type": "code",
   "execution_count": null,
   "metadata": {},
   "outputs": [],
   "source": [
    "# create ideal highpass filter mask Hhp\n",
    "# make two frequency matrices, 'f1' and 'f2', as help variables (frequencies from -1 to 1)\n",
    "n = (500,500)\n",
    "f1 = ( np.arange(0,n[0])-np.floor(n[0]/2) ) * (2./(n[0]))\n",
    "f2 = ( np.arange(0,n[1])-np.floor(n[1]/2) ) * (2./(n[1]))\n",
    "f1, f2 = np.meshgrid(f1, f2)\n",
    "\n",
    "# make a matrix with absolute values of frequency (“sampled” frequency domain)\n",
    "D = np.sqrt(f1**2 + f2**2)\n",
    "\n",
    "# set cut-off frequency D0 to 0.2\n",
    "D0 = 0.2;\n",
    "\n",
    "# filter matrix is initialized to ones \n",
    "Hhp = np.ones(n)\n",
    "\n",
    "# set frequencies in filter mask Hhp smaller than the cut-off frequency D0 to zero, other elements remain unaltered\n",
    "Hhp[D<D0] = 0.0\n",
    "\n",
    "# display the filters\n",
    "fig, ax = plt.subplots(figsize=(16,16), nrows=1, ncols=2)\n",
    "ax[0].imshow(Hlp)\n",
    "ax[0].axis('off')\n",
    "ax[0].set_title(f\"Low-pass filter\")\n",
    "ax[1].imshow(Hhp)\n",
    "ax[1].axis('off')\n",
    "ax[1].set_title(f\"High-pass filter\")\n",
    "fig.tight_layout()"
   ]
  },
  {
   "cell_type": "markdown",
   "metadata": {},
   "source": [
    "**4.4. Perform ideal lowpass and highpass filtering in the frequency domain by multiplying the centralized FT of the original image with the `Hlp` and `Hhp` filter masks (element-per-element matrix multiplication) and display the two resulting FTs in the same figure.**"
   ]
  },
  {
   "cell_type": "code",
   "execution_count": null,
   "metadata": {},
   "outputs": [],
   "source": [
    "# apply ideal lowpass and highpass filtering to the test image, i.e. multiply element-wise the fft of the image with the filter masks\n",
    "lo_filt = fft_translate*Hlp\n",
    "hi_filt = fft_translate*Hhp\n",
    "# display the magnitude of the resulting FTs\n",
    "fig, ax = plt.subplots(figsize=(16,16), nrows=1, ncols=2)\n",
    "ax[0].imshow(np.log(np.abs(lo_filt)+1))\n",
    "ax[0].axis('off')\n",
    "ax[0].set_title(f\"Low-pass filtered FT\")\n",
    "ax[1].imshow(np.log(np.abs(hi_filt)+1))\n",
    "ax[1].axis('off')\n",
    "ax[1].set_title(f\"High-pass filtered FT\")\n",
    "fig.tight_layout()\n"
   ]
  },
  {
   "cell_type": "markdown",
   "metadata": {},
   "source": [
    "**4.5. Reconstruct the filtered images with `fftpack.ifft2()` and `fftpack.ifftshift()` in reverse order and display the two filtered images using `imshow()` in the same figure.** \n",
    "\n",
    "Hint: Due to round-off errors, you have to take the real part of the result of inverse FT before displaying it with `imshow()`. Please note also that the resulting images values beyond the original `uint8` image `[0,255]`, so you need to clip these values using `np.clip()`."
   ]
  },
  {
   "cell_type": "code",
   "execution_count": null,
   "metadata": {},
   "outputs": [],
   "source": [
    "# reconstruct the filtered images\n",
    "filtImLoPass_fft = fftpack.ifftshift(lo_filt)\n",
    "filtImHiPass_fft = fftpack.ifftshift(hi_filt)\n",
    "filtImLoPass = fftpack.ifft2(filtImLoPass_fft)\n",
    "filtImHiPass = fftpack.ifft2(filtImHiPass_fft)\n",
    "\n",
    "# take the 'real' part of the resulting images due to possible round-off errors\n",
    "lopass_im = np.real(filtImLoPass)\n",
    "hipass_im = np.real(filtImHiPass)\n",
    "\n",
    "# clip values beyond the uint8 range [0,255]\n",
    "lopass_im = np.clip(lopass_im, 0, 255)\n",
    "hipass_im = np.clip(hipass_im, 0 , 255)\n",
    "\n",
    "# display the original image and its lowpass and highpass filtered images in the same figure\n",
    "fig, ax = plt.subplots(figsize=(16,16), nrows=1, ncols=3)\n",
    "ax[0].imshow(test_img)\n",
    "ax[0].axis('off')\n",
    "ax[0].set_title(f\"Original test image\")\n",
    "ax[1].imshow(lopass_im)\n",
    "ax[1].axis('off')\n",
    "ax[1].set_title(f\"Low-pass filtered test image\")\n",
    "ax[2].imshow(hipass_im)\n",
    "ax[2].axis('off')\n",
    "ax[2].set_title(f\"High-pass filtered test image\")\n",
    "fig.tight_layout()\n"
   ]
  },
  {
   "cell_type": "markdown",
   "metadata": {},
   "source": [
    "**4.6. Now, construct Gaussian lowpass and highpass filters with cut-off frequency `D0=0.2` and display them in the same figure.**\n",
    "\n",
    "Hint: All you need to do is to modify the filter matrix `Hlp` line in the example code snippet accordingly to form `Hlpg` and `Hhpg` (see, formula 4.3-7 in the course book or the lecture notes, specifically, the **chapter04.pdf**)."
   ]
  },
  {
   "cell_type": "code",
   "execution_count": null,
   "metadata": {},
   "outputs": [],
   "source": [
    "# construct Gaussian lowpass and highpass filters\n",
    "\n",
    "# Gaussian lowpass filter construction\n",
    "# make two frequency matrices, 'f1' and 'f2', as help variables (frequencies from -1 to 1)\n",
    "n = (500,500)\n",
    "f1 = ( np.arange(0,n[0])-np.floor(n[0]/2) ) * (2./(n[0]))\n",
    "f2 = ( np.arange(0,n[1])-np.floor(n[1]/2) ) * (2./(n[1]))\n",
    "f1, f2 = np.meshgrid(f1, f2)\n",
    "\n",
    "# make a matrix with absolute values of frequency (“sampled” frequency domain)\n",
    "D = np.sqrt(f1**2 + f2**2)\n",
    "\n",
    "# set cut-off frequency D0 to 0.2\n",
    "D0 = 0.2;\n",
    "\n",
    "# initialize filter matrix\n",
    "Hlpg = np.exp(-(D**2) / (2*D0))\n",
    "\n",
    "\n",
    "#-------------------------------------------------------------------------------------------s\n",
    "# Gaussian highpass filter construction\n",
    "# make two frequency matrices, 'f1' and 'f2', as help variables (frequencies from -1 to 1)\n",
    "n = (500,500)\n",
    "f1 = ( np.arange(0,n[0])-np.floor(n[0]/2) ) * (2./(n[0]))\n",
    "f2 = ( np.arange(0,n[1])-np.floor(n[1]/2) ) * (2./(n[1]))\n",
    "f1, f2 = np.meshgrid(f1, f2)\n",
    "\n",
    "# make a matrix with absolute values of frequency (“sampled” frequency domain)\n",
    "D = np.sqrt(f1**2 + f2**2)\n",
    "\n",
    "# set cut-off frequency D0 to 0.2\n",
    "D0 = 0.2;\n",
    "\n",
    "# initialize filter matrix\n",
    "Hhpg = 1 - np.exp(-(D**2) / (2*D0))\n",
    "\n",
    "\n",
    "# display the filter masks\n",
    "fig, ax = plt.subplots(figsize=(16,16), nrows=1, ncols=2)\n",
    "ax[0].imshow(Hlpg)\n",
    "ax[0].axis('off')\n",
    "ax[0].set_title(f\"Gaussian lowpass filter\")\n",
    "ax[1].imshow(Hhpg)\n",
    "ax[1].axis('off')\n",
    "ax[1].set_title(f\"Gaussian highpass filter\")"
   ]
  },
  {
   "cell_type": "markdown",
   "metadata": {},
   "source": [
    "**4.7. Perform Gaussian lowpass and highpass filtering to the original test image and display the magnitude of the resulting FTs in the same figure.**"
   ]
  },
  {
   "cell_type": "code",
   "execution_count": null,
   "metadata": {},
   "outputs": [],
   "source": [
    "# apply gaussian lowpass and highpass filtering to the test image\n",
    "gauss_lo = fft_translate*Hlpg\n",
    "gauss_hi = fft_translate*Hhpg\n",
    "\n",
    "# display the magnitude of the resulting FTs\n",
    "fig, ax = plt.subplots(figsize=(16,16), nrows=1, ncols=2)\n",
    "ax[0].imshow(np.log(np.abs(gauss_lo)+1))\n",
    "ax[0].axis('off')\n",
    "ax[0].set_title(f\"Gaussian lowpass filtered FT\")\n",
    "ax[1].imshow(np.log(np.abs(gauss_hi)+1))\n",
    "ax[1].axis('off')\n",
    "ax[1].set_title(f\"Gaussian highpass filtered FT\")"
   ]
  },
  {
   "cell_type": "markdown",
   "metadata": {},
   "source": [
    "**4.8. Finally, reconstruct the filtered images like in step 4.5. and display the original image and the two Gaussian filtered images in the same figure.**"
   ]
  },
  {
   "cell_type": "code",
   "execution_count": null,
   "metadata": {},
   "outputs": [],
   "source": [
    "# reconstruct the filtered images \n",
    "filtImLoPassGauss_fft = fftpack.ifftshift(gauss_lo)\n",
    "filtImHiPassGauss_fft = fftpack.ifftshift(gauss_hi)\n",
    "filtImLoPassGauss = fftpack.ifft2(filtImLoPassGauss_fft)\n",
    "filtImHiPassGauss = fftpack.ifft2(filtImHiPassGauss_fft)\n",
    "\n",
    "# take the 'real' part of the resulting images due to possible round-off errors\n",
    "lopass_gauss = np.real(filtImLoPassGauss)\n",
    "hipass_gauss = np.real(filtImHiPassGauss)\n",
    "\n",
    "# clip values beyond the uint8 range [0,255]\n",
    "lopass_gauss = np.clip(lopass_gauss, 0, 255)\n",
    "hipass_gauss = np.clip(hipass_gauss, 0 , 255)\n",
    "\n",
    "# display the three images in the same figure\n",
    "fig, ax = plt.subplots(figsize=(16,16), nrows=1, ncols=3)\n",
    "ax[0].imshow(test_img)\n",
    "ax[0].axis('off')\n",
    "ax[0].set_title(f\"Original test image\")\n",
    "ax[1].imshow(lopass_gauss)\n",
    "ax[1].axis('off')\n",
    "ax[1].set_title(f\"Gaussian lowpass filtered image\")\n",
    "ax[2].imshow(hipass_gauss)\n",
    "ax[2].axis('off')\n",
    "ax[2].set_title(f\"Gaussian highpass filtered image\")"
   ]
  },
  {
   "cell_type": "markdown",
   "metadata": {},
   "source": [
    "# Aftermath\n",
    "Finally, fill your answers to the following questions:"
   ]
  },
  {
   "cell_type": "markdown",
   "metadata": {},
   "source": [
    "# References\n",
    "`Enter your references here`"
   ]
  },
  {
   "cell_type": "markdown",
   "metadata": {
    "collapsed": true
   },
   "source": [
    "# Submission\n",
    "\n",
    "1. Before submitting your work, **check that your notebook (code) runs from scratch** and reproduces all the requested results by clicking on the menu `Kernel -> Restart & Run All`! Also, check that you have answered all the questions written in **bold**.\n",
    "2. Clear all outputs and variables, etc. by click on the menu `Kernel -> Restart & Clear Output`. This may (or will) reduce the file size of your deliverable a lot! \n",
    "3. Rename this Jupyter notebook to **`DIP_PA3_[student number(s)].ipynb`** (e.g. `DIP_PA3_1234567.ipynb` if solo work or `DIP_PA3_1234567-7654321.ipynb` if pair work) and upload it as your submission to Moodle."
   ]
  },
  {
   "cell_type": "code",
   "execution_count": null,
   "metadata": {},
   "outputs": [],
   "source": []
  }
 ],
 "metadata": {
  "kernelspec": {
   "display_name": "Python 3 (ipykernel)",
   "language": "python",
   "name": "python3"
  },
  "language_info": {
   "codemirror_mode": {
    "name": "ipython",
    "version": 3
   },
   "file_extension": ".py",
   "mimetype": "text/x-python",
   "name": "python",
   "nbconvert_exporter": "python",
   "pygments_lexer": "ipython3",
   "version": "3.9.7"
  }
 },
 "nbformat": 4,
 "nbformat_minor": 2
}
